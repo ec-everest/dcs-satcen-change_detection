{
 "cells": [
  {
   "cell_type": "markdown",
   "metadata": {},
   "source": [
    "## NDVI Bottom of Atmosphere"
   ]
  },
  {
   "cell_type": "markdown",
   "metadata": {},
   "source": [
    "This notebook takes a Sentinel-2 Level 2 product and generates the NDVI according to a set of flags.\n"
   ]
  },
  {
   "cell_type": "code",
   "execution_count": 1,
   "metadata": {
    "collapsed": false
   },
   "outputs": [],
   "source": [
    "pa_code = dict([('id', 'pa_code'),\n",
    "               ('value', 'DO'),\n",
    "               ('title', 'Protected Area code'),\n",
    "               ('abstract', 'Protected Area code (one of DO,...)')])"
   ]
  },
  {
   "cell_type": "code",
   "execution_count": 2,
   "metadata": {
    "collapsed": true
   },
   "outputs": [],
   "source": [
    "service = dict([('title', 'NDVI BOA - updated 4'),\n",
    "                ('abstract', 'Sentinel-2 NDVI BOA'),\n",
    "                ('id', 'ndvi_boa')])"
   ]
  },
  {
   "cell_type": "code",
   "execution_count": 3,
   "metadata": {
    "collapsed": true
   },
   "outputs": [],
   "source": [
    "pa_name = dict([('id', 'pa_name'),\n",
    "               ('value', 'Donana'),\n",
    "               ('title', 'Protected Area name'),\n",
    "               ('abstract', 'Protected Area name (one of Donana,...)')])"
   ]
  },
  {
   "cell_type": "code",
   "execution_count": 4,
   "metadata": {
    "collapsed": true
   },
   "outputs": [],
   "source": [
    "resolution = dict([('id', 'resolution'),\n",
    "               ('value', '60'),\n",
    "               ('title', 'Spatial resolution'),\n",
    "               ('abstract', 'Spatial resolution in meters (10 or 20 or 60)')])"
   ]
  },
  {
   "cell_type": "code",
   "execution_count": 5,
   "metadata": {
    "collapsed": true
   },
   "outputs": [],
   "source": [
    "plot_quicklooks = dict([('id', 'plot'),\n",
    "               ('value', 'False'),\n",
    "               ('title', 'Boolean to add quicklooks to notebook'),\n",
    "               ('abstract', 'Boolean to add quicklooks to notebook')])"
   ]
  },
  {
   "cell_type": "code",
   "execution_count": 6,
   "metadata": {
    "collapsed": true
   },
   "outputs": [],
   "source": [
    "data_path = '/workspace/data'"
   ]
  },
  {
   "cell_type": "code",
   "execution_count": 7,
   "metadata": {
    "collapsed": true
   },
   "outputs": [],
   "source": [
    "input_identifier = 'S2A_MSIL2A_20170909T110651_N0205_R137_T29SPB_20170909T111217'"
   ]
  },
  {
   "cell_type": "code",
   "execution_count": 8,
   "metadata": {
    "collapsed": true
   },
   "outputs": [],
   "source": [
    "input_reference = \"https://catalog.terradue.com/sentinel2/search?uid=S2A_MSIL2A_20170909T110651_N0205_R137_T29SPB_20170909T111217\""
   ]
  },
  {
   "cell_type": "code",
   "execution_count": 9,
   "metadata": {
    "collapsed": true
   },
   "outputs": [],
   "source": [
    "import os\n",
    "import sys\n",
    "import numpy as np\n",
    "import matplotlib\n",
    "import matplotlib.pyplot as plt\n",
    "import snappy\n",
    "import dateutil.parser as parser\n",
    "import gc\n",
    "from datetime import datetime\n",
    "import matplotlib\n",
    "import matplotlib.colors as colors\n",
    "from PIL import Image\n",
    "\n",
    "from os.path import basename\n",
    "import gdal\n",
    "import osr\n",
    "\n",
    "sys.path.append('/application/notebook/libexec/') \n",
    "sys.path.append(os.getcwd())\n",
    "import ISOMetadata\n",
    "\n",
    "from os.path import exists\n",
    "from osgeo import gdal\n",
    "from osgeo.gdalconst import GA_ReadOnly\n",
    "from struct import unpack\n",
    "import Image\n",
    "import ImageDraw\n",
    "from sys import argv\n",
    "from sys import exit\n",
    "\n",
    "%matplotlib inline"
   ]
  },
  {
   "cell_type": "code",
   "execution_count": 10,
   "metadata": {
    "collapsed": true
   },
   "outputs": [],
   "source": [
    "def raster2rgb(raster_file, color_table, out_file_name, raster_band=1, discrete=True):\n",
    "    \n",
    "    #Reading the band\n",
    "    data_types ={'Byte':'B','UInt16':'H','Int16':'h','UInt32':'I','Int32':'i','Float32':'f','Float64':'d'}\n",
    "    if exists(raster_file) is False:\n",
    "            raise Exception('[Errno 2] No such file or directory: \\'' + raster_file + '\\'')    \n",
    "    \n",
    "    dataset = gdal.Open(raster_file, GA_ReadOnly )\n",
    "    \n",
    "    if dataset == None:\n",
    "        raise Exception(\"Unable to read the data file\")\n",
    "        \n",
    "    geoTransform = dataset.GetGeoTransform()\n",
    "    proj = dataset.GetProjection()\n",
    "    \n",
    "    band = dataset.GetRasterBand(raster_band)\n",
    "    values = band.ReadRaster( 0, 0, band.XSize, band.YSize, band.XSize, band.YSize, band.DataType )\n",
    "    values = unpack(data_types[gdal.GetDataTypeName(band.DataType)]*band.XSize*band.YSize,values)\n",
    "    \n",
    "    #Preparing the color table and the output file\n",
    "    classification_values = color_table.keys()\n",
    "    classification_values.sort()\n",
    "    \n",
    "    base = Image.new( 'RGBA', (band.XSize,band.YSize) )\n",
    "    base_draw = ImageDraw.Draw(base)\n",
    "    alpha_mask = Image.new('L', (band.XSize,band.YSize), 255)\n",
    "    alpha_draw = ImageDraw.Draw(alpha_mask)\n",
    "    \n",
    "    #Reading the value and setting the output color for each pixel\n",
    "    for pos in range(len(values)):\n",
    "        y = pos/band.XSize\n",
    "        x = pos - y * band.XSize\n",
    "        for index in range(len(classification_values)):\n",
    "\n",
    "            if values[pos] <= classification_values[index] or index == len(classification_values)-1:\n",
    "                if discrete == True:\n",
    "                    if index == 0:\n",
    "                        index = 1\n",
    "                    elif index == len(classification_values)-1 and values[pos] >= classification_values[index]:\n",
    "                        index = index + 1\n",
    "                    color = color_table[classification_values[index-1]]\n",
    "                    base_draw.point((x,y), (color[0],color[1],color[2]))\n",
    "                    alpha_draw.point((x,y),color[3])\n",
    "                else:\n",
    "                    if index == 0:\n",
    "                        r = color_table[classification_values[0]][0]\n",
    "                        g = color_table[classification_values[0]][1]\n",
    "                        b = color_table[classification_values[0]][2]\n",
    "                        a = color_table[classification_values[0]][3]\n",
    "                    elif index == len(classification_values)-1 and values[pos] >= classification_values[index]:\n",
    "                        r = color_table[classification_values[index]][0]\n",
    "                        g = color_table[classification_values[index]][1]\n",
    "                        b = color_table[classification_values[index]][2]\n",
    "                        a = color_table[classification_values[index]][3]\n",
    "                    else:\n",
    "                        r = color_table[classification_values[index-1]][0] + (values[pos] - classification_values[index-1])*(color_table[classification_values[index]][0] - color_table[classification_values[index-1]][0])/(classification_values[index]-classification_values[index-1]) \n",
    "                        g = color_table[classification_values[index-1]][1] + (values[pos] - classification_values[index-1])*(color_table[classification_values[index]][1] - color_table[classification_values[index-1]][1])/(classification_values[index]-classification_values[index-1]) \n",
    "                        b = color_table[classification_values[index-1]][2] + (values[pos] - classification_values[index-1])*(color_table[classification_values[index]][2] - color_table[classification_values[index-1]][2])/(classification_values[index]-classification_values[index-1]) \n",
    "                        a = color_table[classification_values[index-1]][3] + (values[pos] - classification_values[index-1])*(color_table[classification_values[index]][3] - color_table[classification_values[index-1]][3])/(classification_values[index]-classification_values[index-1]) \n",
    "                    \n",
    "                    base_draw.point((x,y), (int(r),int(g),int(b)))\n",
    "                    alpha_draw.point((x,y),int(a))\n",
    "                    \n",
    "                break\n",
    "    #Adding transparency and saving the output image       \n",
    "    color_layer = Image.new('RGBA', base.size, (255, 255, 255, 0))\n",
    "    base = Image.composite(color_layer, base, alpha_mask)\n",
    "    base.save(out_file_name)\n",
    "\n",
    "    # update geolocation\n",
    "    ds_rgb = gdal.Open(out_file_name,1)\n",
    "    ds_rgb.SetGeoTransform(geoTransform)\n",
    "    ds_rgb.SetProjection(proj)\n",
    "    \n",
    "    ds_rgb.FlushCache()\n",
    "    \n",
    "    ds_rgb = None    "
   ]
  },
  {
   "cell_type": "code",
   "execution_count": 11,
   "metadata": {
    "collapsed": true
   },
   "outputs": [],
   "source": [
    "def readColorTable(color_file):\n",
    "    color_table = {}\n",
    "    if exists(color_file) is False:\n",
    "        raise Exception(\"Color file \" + color_file + \" does not exist\")\n",
    "    \n",
    "    fp = open(color_file, \"r\")\n",
    "    for line in fp:\n",
    "        if line.find('#') == -1 and line.find('/') == -1:\n",
    "            entry = line.split()\n",
    "            if len(entry) == 5:\n",
    "                alpha = int(entry[4])\n",
    "            else:\n",
    "                alpha=0\n",
    "            color_table[eval(entry[0])]=[int(entry[1]),int(entry[2]),int(entry[3]),alpha]\n",
    "    fp.close()\n",
    "    \n",
    "    return color_table"
   ]
  },
  {
   "cell_type": "code",
   "execution_count": 12,
   "metadata": {
    "collapsed": true
   },
   "outputs": [],
   "source": [
    "def plotBand(product, band, vmin, vmax):\n",
    "     \n",
    "    band = product.getBand(band)\n",
    "\n",
    "    w = band.getRasterWidth()\n",
    "    h = band.getRasterHeight()\n",
    "\n",
    "    band_data = np.zeros(w * h, np.float32)\n",
    "    band.readPixels(0, 0, w, h, band_data)\n",
    "\n",
    "    band_data.shape = h, w\n",
    "\n",
    "    imgplot = plt.imshow(band_data, cmap=plt.cm.binary_r, vmin=vmin, vmax=vmax)\n",
    "\n",
    "    \n",
    "    return imgplot "
   ]
  },
  {
   "cell_type": "code",
   "execution_count": 13,
   "metadata": {
    "collapsed": false
   },
   "outputs": [],
   "source": [
    "s2prd = \"%s/%s/%s.SAFE/MTD_MSIL2A.xml\" % (data_path, input_identifier, input_identifier)\n",
    "product = snappy.ProductIO.readProduct(s2prd)\n",
    "\n",
    "width = product.getSceneRasterWidth()\n",
    "height = product.getSceneRasterHeight()\n",
    "name = product.getName()\n",
    "description = product.getDescription()\n",
    "band_names = product.getBandNames()\n"
   ]
  },
  {
   "cell_type": "code",
   "execution_count": 14,
   "metadata": {
    "collapsed": true
   },
   "outputs": [],
   "source": [
    "product_date = parser.parse(product.getStartTime().toString()).date()"
   ]
  },
  {
   "cell_type": "code",
   "execution_count": 15,
   "metadata": {
    "collapsed": true
   },
   "outputs": [],
   "source": [
    "output_date = '%s%02d%02d' % (product_date.year, product_date.month, product_date.day)"
   ]
  },
  {
   "cell_type": "markdown",
   "metadata": {},
   "source": [
    "### Plot RGB"
   ]
  },
  {
   "cell_type": "code",
   "execution_count": 16,
   "metadata": {
    "collapsed": false
   },
   "outputs": [],
   "source": [
    "if plot_quicklooks['value'] == 'True':\n",
    "    \n",
    "    b4 = product.getBand('B4')\n",
    "    b3 = product.getBand('B3')\n",
    "    b2 = product.getBand('B2')\n",
    "\n",
    "    w = b4.getRasterWidth()\n",
    "    h = b4.getRasterHeight()\n",
    "\n",
    "    b4_data = np.zeros(w * h, np.float32)\n",
    "    b4.readPixels(0, 0, w, h, b4_data)\n",
    "    b4_data.shape = h, w\n",
    "\n",
    "    b3_data = np.zeros(w * h, np.float32)\n",
    "    b3.readPixels(0, 0, w, h, b3_data)\n",
    "    b3_data.shape = h, w\n",
    "\n",
    "    b2_data = np.zeros(w * h, np.float32)\n",
    "    b2.readPixels(0, 0, w, h, b2_data)\n",
    "    b2_data.shape = h, w\n",
    "\n",
    "    red = (b4_data*256/(np.amax(b4_data)-np.amin(b4_data)))\n",
    "    green = (b3_data*256/(np.amax(b3_data)-np.amin(b3_data)))\n",
    "    blue = (b2_data*256/(np.amax(b2_data)-np.amin(b2_data)))\n",
    "\n",
    "\n",
    "    rgb_uint8 = np.dstack((red, green, blue)).astype(np.uint8) \n",
    "\n",
    "    width = 12\n",
    "    height = 12\n",
    "    plt.figure(figsize=(width, height))\n",
    "    img = Image.fromarray(rgb_uint8)\n",
    "    imgplot = plt.imshow(img)"
   ]
  },
  {
   "cell_type": "code",
   "execution_count": 17,
   "metadata": {
    "collapsed": true
   },
   "outputs": [],
   "source": [
    "if resolution['value'] == '10':\n",
    "    reference_band = 'B4'\n",
    "\n",
    "if resolution['value'] == '20':\n",
    "    reference_band = 'B5'\n",
    "    \n",
    "if resolution['value'] == '60':\n",
    "    reference_band = 'B1'   "
   ]
  },
  {
   "cell_type": "code",
   "execution_count": 18,
   "metadata": {
    "collapsed": false
   },
   "outputs": [],
   "source": [
    "snappy.GPF.getDefaultInstance().getOperatorSpiRegistry().loadOperatorSpis()\n",
    "\n",
    "HashMap = snappy.jpy.get_type('java.util.HashMap')\n",
    "\n",
    "WKTReader = snappy.jpy.get_type('com.vividsolutions.jts.io.WKTReader')\n",
    "    \n",
    "parameters = HashMap()\n",
    "parameters.put('referenceBand', reference_band)\n",
    "    \n",
    "product = snappy.GPF.createProduct('Resample', parameters, product)\n",
    "    "
   ]
  },
  {
   "cell_type": "code",
   "execution_count": 19,
   "metadata": {
    "collapsed": true
   },
   "outputs": [],
   "source": [
    "flag_expr = dict([('id', 'flag_expr'),\n",
    "               ('value', '( saturated_l1a_B4 or scl_water )'),\n",
    "               ('title', 'Flag expression for pixel exclusion'),\n",
    "               ('abstract', 'Flag expression for pixel exclusion (e.g. saturated_l1a_B4 will exclude pixels having the flag saturated_l1a_B4 set)')])"
   ]
  },
  {
   "cell_type": "markdown",
   "metadata": {
    "collapsed": false
   },
   "source": [
    "if not flag_expr['value']:\n",
    "    ndvi_expr = '(B8 + B4) != 0 and (B8 - B4)/(B8 + B4) >= 0 and (B8 - B4)/(B8 + B4) <= 1? ((B8 - B4)/(B8 + B4)) * 10000 : 20000'\n",
    "else:\n",
    "    ndvi_expr = '! %s and (B8 + B4) != 0 and (B8 - B4)/(B8 + B4) >= 0 and (B8 - B4)/(B8 + B4) <= 1? ((B8 - B4)/(B8 + B4)) * 10000 : 20000' % flag_expr['value']\n",
    "    \n"
   ]
  },
  {
   "cell_type": "code",
   "execution_count": 20,
   "metadata": {
    "collapsed": true
   },
   "outputs": [],
   "source": [
    "if not flag_expr['value']:\n",
    "    ndvi_expr = '(B8 + B4) != 0 ? 10000 + ((B8 - B4)/(B8 + B4)) * 10000 : 30000'\n",
    "else:\n",
    "    ndvi_expr = '! %s and (B8 + B4) != 0 ? 10000 + ((B8 - B4)/(B8 + B4)) * 10000 : 30000' % flag_expr['value']\n",
    "    \n"
   ]
  },
  {
   "cell_type": "code",
   "execution_count": 21,
   "metadata": {
    "collapsed": false
   },
   "outputs": [],
   "source": [
    "HashMap = snappy.jpy.get_type('java.util.HashMap')\n",
    "\n",
    "BandDescriptor = snappy.jpy.get_type('org.esa.snap.core.gpf.common.BandMathsOp$BandDescriptor')\n",
    "\n",
    "targetBand0 = BandDescriptor()\n",
    "targetBand0.name = 'ndvi'\n",
    "targetBand0.type = 'uint16'\n",
    "targetBand0.expression = ndvi_expr\n",
    "\n",
    "targetBand1 = BandDescriptor()\n",
    "targetBand1.name = 'quality_cloud_confidence'\n",
    "targetBand1.type = 'uint16'\n",
    "targetBand1.expression = 'quality_cloud_confidence'\n",
    "\n",
    "targetBand2 = BandDescriptor()\n",
    "targetBand2.name = 'quality_snow_confidence'\n",
    "targetBand2.type = 'uint16'\n",
    "targetBand2.expression = 'quality_snow_confidence'\n",
    "\n",
    "targetBand3 = BandDescriptor()\n",
    "targetBand3.name = 'quality_scene_classification'\n",
    "targetBand3.type = 'uint16'\n",
    "targetBand3.expression = 'quality_scene_classification'\n",
    "\n",
    "targetBands = snappy.jpy.array('org.esa.snap.core.gpf.common.BandMathsOp$BandDescriptor', 4)\n",
    "targetBands[0] = targetBand0\n",
    "targetBands[1] = targetBand1\n",
    "targetBands[2] = targetBand2\n",
    "targetBands[3] = targetBand3\n",
    " \n",
    "parameters = HashMap()\n",
    "parameters.put('targetBands', targetBands)\n",
    "\n",
    "ndvi = snappy.GPF.createProduct('BandMaths', parameters, product)"
   ]
  },
  {
   "cell_type": "code",
   "execution_count": 22,
   "metadata": {
    "collapsed": false
   },
   "outputs": [
    {
     "data": {
      "text/plain": [
       "56"
      ]
     },
     "execution_count": 22,
     "metadata": {},
     "output_type": "execute_result"
    }
   ],
   "source": [
    "product = None\n",
    "gc.collect()"
   ]
  },
  {
   "cell_type": "code",
   "execution_count": 23,
   "metadata": {
    "collapsed": false
   },
   "outputs": [],
   "source": [
    "if plot_quicklooks['value'] == 'True':\n",
    "    \n",
    "    fig = plt.figure(figsize=(20,20))\n",
    "\n",
    "    for index, band in enumerate(ndvi.getBandNames()):\n",
    "        \n",
    "        a=fig.add_subplot(4,4,index+1)\n",
    "        if index == 0:\n",
    "            imgplot = plotBand(ndvi, band, 0, 10000)\n",
    "        elif index == 3:\n",
    "            imgplot = plotBand(ndvi, band, 0, 10)\n",
    "        else:\n",
    "            imgplot = plotBand(ndvi, band, 0, 100)\n",
    "        a.set_title(band)\n",
    "    \n",
    "    plt.tight_layout()\n",
    "    fig = plt.gcf()\n",
    "    plt.show()\n",
    "\n",
    "    fig.clf()\n",
    "    plt.close()\n",
    "    gc.collect()"
   ]
  },
  {
   "cell_type": "markdown",
   "metadata": {},
   "source": [
    "#### Write the geotiff"
   ]
  },
  {
   "cell_type": "code",
   "execution_count": 24,
   "metadata": {
    "collapsed": true
   },
   "outputs": [],
   "source": [
    "output_name = '%s_%s_NDVI_BOA' % (name, pa_code['value'])"
   ]
  },
  {
   "cell_type": "code",
   "execution_count": 25,
   "metadata": {
    "collapsed": false
   },
   "outputs": [],
   "source": [
    "snappy.ProductIO.writeProduct(ndvi, output_name + '.tif', 'GeoTIFF')"
   ]
  },
  {
   "cell_type": "markdown",
   "metadata": {},
   "source": [
    "#### Produce the browse"
   ]
  },
  {
   "cell_type": "code",
   "execution_count": 26,
   "metadata": {
    "collapsed": false
   },
   "outputs": [],
   "source": [
    "ndvi_palette = {8000: [61, 0, 253, 0],\n",
    "                10000: [217, 217, 173, 0], \n",
    "                11000: [255, 255, 102, 0], \n",
    "                12000: [199, 156, 62, 0],\n",
    "                13000: [204, 255, 102, 0],\n",
    "                17000: [114, 184, 46, 0], \n",
    "                30000: [0, 0, 0, 255], \n",
    "                20000: [51, 102, 0, 0]}\n",
    "                "
   ]
  },
  {
   "cell_type": "code",
   "execution_count": 27,
   "metadata": {
    "collapsed": false
   },
   "outputs": [],
   "source": [
    "raster2rgb(output_name + '.tif',\n",
    "           ndvi_palette,\n",
    "           output_name + '.rgb.tif',\n",
    "           raster_band=1)"
   ]
  },
  {
   "cell_type": "markdown",
   "metadata": {},
   "source": [
    "#### Produce the properties file"
   ]
  },
  {
   "cell_type": "code",
   "execution_count": 28,
   "metadata": {
    "collapsed": true
   },
   "outputs": [],
   "source": [
    "#properties = open(output_name + '.tif.properties', 'w')"
   ]
  },
  {
   "cell_type": "code",
   "execution_count": 29,
   "metadata": {
    "collapsed": true
   },
   "outputs": [],
   "source": [
    "#properties.write('identifier=' + output_name + '_' + datetime.now().strftime(\"%s\"))\n",
    "#properties.write('\\n')\n",
    "#properties.write('date=%s/%s' % (parser.parse(ndvi.getStartTime().toString()).isoformat(), \n",
    "#                                 parser.parse(ndvi.getEndTime().toString()).isoformat()))\n",
    "#properties.write('\\n')\n",
    "#properties.write('category=thematic,http://www.terradue.com/api/data-pipeline/thematic,Thematic resource')"
   ]
  },
  {
   "cell_type": "code",
   "execution_count": 30,
   "metadata": {
    "collapsed": true
   },
   "outputs": [],
   "source": [
    "#properties.close()"
   ]
  },
  {
   "cell_type": "code",
   "execution_count": 31,
   "metadata": {
    "collapsed": false
   },
   "outputs": [
    {
     "data": {
      "text/plain": [
       "'2018-05-21'"
      ]
     },
     "execution_count": 31,
     "metadata": {},
     "output_type": "execute_result"
    }
   ],
   "source": [
    "datetime.now().strftime(\"%Y-%m-%d\")"
   ]
  },
  {
   "cell_type": "markdown",
   "metadata": {},
   "source": [
    "### ISO Metadata"
   ]
  },
  {
   "cell_type": "code",
   "execution_count": 32,
   "metadata": {
    "collapsed": false
   },
   "outputs": [],
   "source": [
    "%load_ext autoreload\n",
    "%autoreload 2"
   ]
  },
  {
   "cell_type": "code",
   "execution_count": 33,
   "metadata": {
    "collapsed": true
   },
   "outputs": [],
   "source": [
    "def set_geo(geotiff):\n",
    "    \n",
    "    ds = gdal.Open(geotiff)\n",
    "\n",
    "    iso_metadata.set_col_size(str(ds.RasterXSize))\n",
    "    iso_metadata.set_row_size(str(ds.RasterYSize))\n",
    "\n",
    "    transform = ds.GetGeoTransform()\n",
    "\n",
    "    iso_metadata.set_pixel_size(str(transform[1]))\n",
    "\n",
    "    ul_x = transform[0]\n",
    "    ul_y = transform[3]\n",
    "\n",
    "    nw_corner = '%s %s' % (str(ul_x), str(ul_y))\n",
    "\n",
    "    iso_metadata.set_nw_corner(nw_corner)\n",
    "\n",
    "    lr_x = transform[0] + transform[1] * ds.RasterXSize\n",
    "    lr_y = transform[3] + transform[5] * ds.RasterYSize\n",
    "\n",
    "    se_corner = '%s %s' % (str(lr_x), str(lr_y))\n",
    "\n",
    "    iso_metadata.set_se_corner(se_corner)\n",
    "\n",
    "    old_cs= osr.SpatialReference()\n",
    "    old_cs.ImportFromWkt(ds.GetProjectionRef())\n",
    "\n",
    "    wgs84_wkt = \"\"\"\n",
    "GEOGCS[\"WGS 84\",\n",
    "    DATUM[\"WGS_1984\",\n",
    "        SPHEROID[\"WGS 84\",6378137,298.257223563,\n",
    "            AUTHORITY[\"EPSG\",\"7030\"]],\n",
    "        AUTHORITY[\"EPSG\",\"6326\"]],\n",
    "    PRIMEM[\"Greenwich\",0,\n",
    "        AUTHORITY[\"EPSG\",\"8901\"]],\n",
    "    UNIT[\"degree\",0.01745329251994328,\n",
    "        AUTHORITY[\"EPSG\",\"9122\"]],\n",
    "    AUTHORITY[\"EPSG\",\"4326\"]]\"\"\"\n",
    "    new_cs = osr.SpatialReference()\n",
    "    new_cs .ImportFromWkt(wgs84_wkt)\n",
    "\n",
    "    transform = osr.CoordinateTransformation(old_cs,new_cs) \n",
    "\n",
    "    min_lon = transform.TransformPoint(ul_x,lr_y)[0]\n",
    "    iso_metadata.set_min_lon(str(min_lon))\n",
    "\n",
    "    min_lat = transform.TransformPoint(ul_x,lr_y)[1]\n",
    "    iso_metadata.set_min_lat(str(min_lat))\n",
    "\n",
    "    max_lon = transform.TransformPoint(lr_x, ul_y)[0]\n",
    "    iso_metadata.set_max_lon(str(max_lon))\n",
    "\n",
    "    max_lat = transform.TransformPoint(lr_x, ul_y)[1]\n",
    "    iso_metadata.set_max_lat(str(max_lat))\n",
    "    \n",
    "    prj = ds.GetProjection()\n",
    "    srs=osr.SpatialReference(wkt=prj)\n",
    "\n",
    "\n",
    "    iso_metadata.set_epsg_code(srs.GetAttrValue(\"PROJCS|AUTHORITY\", 1))\n"
   ]
  },
  {
   "cell_type": "code",
   "execution_count": 51,
   "metadata": {
    "collapsed": false
   },
   "outputs": [],
   "source": [
    "sys.path.append(os.getcwd())\n",
    "import ISOMetadata\n"
   ]
  },
  {
   "cell_type": "code",
   "execution_count": 52,
   "metadata": {
    "collapsed": false
   },
   "outputs": [],
   "source": [
    "iso_metadata = ISOMetadata.ISOMetadata()"
   ]
  },
  {
   "cell_type": "code",
   "execution_count": 53,
   "metadata": {
    "collapsed": false
   },
   "outputs": [],
   "source": [
    "iso_metadata.set_identifier(output_name)\n",
    "\n",
    "iso_metadata.set_contact_party('Terradue', 'info@terradue.com')\n",
    "\n",
    "iso_metadata.set_poc('Terradue', 'support@terradue.com')\n",
    "\n",
    "iso_metadata.set_title('Sentinel-2 NDVI BOA for %s [%s]' % (pa_name['value'], '%s-%02d-%02d' % (product_date.year, product_date.month, product_date.day)) )\n",
    "iso_metadata.set_abstract('Sentinel-2 Normalized Difference Vegetation Index at Bottom of Atmosphere for %s [%s]' % (pa_name['value'], '%s-%02d-%02d' % (product_date.year, product_date.month, product_date.day)))\n",
    "#iso_metadata.set_date('%s-%02d-%02d' % (product_date.year, product_date.month, product_date.day))\n",
    "iso_metadata.set_production_date(datetime.now().strftime(\"%Y-%m-%d\"))\n",
    "\n",
    "\n",
    "iso_metadata.set_pa(pa_name['value'])\n",
    "iso_metadata.set_data_quality('Nominal')\n",
    "iso_metadata.set_distributor_party('CNR')\n",
    "iso_metadata.set_lineage('NDVI band math expression: %s' % ndvi_expr)\n",
    "\n",
    "iso_metadata.set_data_type('UInt16')\n",
    "iso_metadata.set_data_format('GEOTIFF')\n",
    "\n",
    "iso_metadata.set_source(input_identifier)\n",
    "\n",
    "set_geo(output_name + '.tif')\n",
    "\n",
    "iso_metadata.set_start_date(parser.parse(ndvi.getStartTime().toString()).isoformat())\n",
    "iso_metadata.set_end_date(parser.parse(ndvi.getEndTime().toString()).isoformat())"
   ]
  },
  {
   "cell_type": "code",
   "execution_count": 54,
   "metadata": {
    "collapsed": false
   },
   "outputs": [],
   "source": [
    "iso_metadata.write(output_name + '.xml')"
   ]
  },
  {
   "cell_type": "code",
   "execution_count": null,
   "metadata": {
    "collapsed": true
   },
   "outputs": [],
   "source": []
  }
 ],
 "metadata": {
  "kernelspec": {
   "display_name": "Python 2",
   "language": "python",
   "name": "python2"
  },
  "language_info": {
   "codemirror_mode": {
    "name": "ipython",
    "version": 2
   },
   "file_extension": ".py",
   "mimetype": "text/x-python",
   "name": "python",
   "nbconvert_exporter": "python",
   "pygments_lexer": "ipython2",
   "version": "2.7.12"
  }
 },
 "nbformat": 4,
 "nbformat_minor": 2
}
