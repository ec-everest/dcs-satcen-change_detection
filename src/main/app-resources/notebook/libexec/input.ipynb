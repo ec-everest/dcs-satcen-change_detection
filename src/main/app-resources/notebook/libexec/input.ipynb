{
 "cells": [
  {
   "cell_type": "markdown",
   "metadata": {},
   "source": [
    "# SatCen Change Detection using SNAP and Sentinel-1 data"
   ]
  },
  {
   "cell_type": "markdown",
   "metadata": {},
   "source": [
    "## <a name=\"quicklink\">Quick link"
   ]
  },
  {
   "cell_type": "markdown",
   "metadata": {},
   "source": [
    "* [Objective](#objective)\n",
    "* [Data](#data)\n",
    "* [Workflow](#workflow)\n",
    "* [License](#license)"
   ]
  },
  {
   "cell_type": "markdown",
   "metadata": {},
   "source": [
    "## <a name=\"objective\">Objective "
   ]
  },
  {
   "cell_type": "markdown",
   "metadata": {},
   "source": [
    "This notebook produces a Change Detection analysis using the Sentinel Application Platform (SNAP) and Sentinel-1 Level-1 Ground Range Detected."
   ]
  },
  {
   "cell_type": "markdown",
   "metadata": {},
   "source": [
    "## <a name=\"data\">Data"
   ]
  },
  {
   "cell_type": "markdown",
   "metadata": {},
   "source": [
    "SENTINEL data products are made available systematically and free of charge to all data users including the general public, scientific and commercial users. Radar data will be delivered within an hour of reception for Near Real-Time (NRT) emergency response, within three hours for NRT priority areas and within 24 hours for systematically archived data.\n",
    "\n",
    "All data products are distributed in the SENTINEL Standard Archive Format for Europe (SAFE) format."
   ]
  },
  {
   "cell_type": "markdown",
   "metadata": {},
   "source": [
    "Sentinel-1 data products are available in single polarisation (VV or HH) for Wave mode and dual polarisation (VV+VH or HH+HV) and single polarisation (HH or VV) for SM, IW and EW modes.\n",
    "\n",
    "Level-1 Ground Range Detected (GRD) products consist of focused SAR data that has been detected, multi-looked and projected to ground range using an Earth ellipsoid model. Phase information is lost. The resulting product has approximately square resolution pixels and square pixel spacing with reduced speckle at the cost of reduced geometric resolution.\n",
    "\n",
    "GRD products can be in one of three resolutions:\n",
    "\n",
    "* Full Resolution (FR)\n",
    "* High Resolution (HR)\n",
    "* Medium Resolution (MR).\n",
    "\n",
    "The resolution is dependent upon the amount of multi-looking performed. Level-1 GRD products are available in MR and HR for IW and EW modes, MR for WV mode and MR, HR and FR for SM mode."
   ]
  },
  {
   "cell_type": "markdown",
   "metadata": {},
   "source": [
    "## <a name=\"service\">Service definition"
   ]
  },
  {
   "cell_type": "markdown",
   "metadata": {},
   "source": [
    "#### Service"
   ]
  },
  {
   "cell_type": "code",
   "execution_count": 1,
   "metadata": {
    "collapsed": true
   },
   "outputs": [],
   "source": [
    "service = dict([('title', 'SatCen Change Detection'),\n",
    "                ('abstract', 'SatCen Change Detection using SNAP and Sentinel-1 data'),\n",
    "                ('id', 'satcen-change-detection')])"
   ]
  },
  {
   "cell_type": "markdown",
   "metadata": {},
   "source": [
    "#### Parameters"
   ]
  },
  {
   "cell_type": "code",
   "execution_count": 2,
   "metadata": {
    "collapsed": true
   },
   "outputs": [],
   "source": [
    "aoi_wkt = dict([('id', 'aoi_wkt'),\n",
    "               ('value', 'POLYGON((-3.611068725585937 40.57602136929037,-3.611068725585937 40.42669550575275,-3.4047317504882812 40.42669550575275,-3.4047317504882812 40.57602136929037,-3.611068725585937 40.57602136929037))'),\n",
    "               ('title', 'Area of nterest'),\n",
    "               ('abstract', 'Area of interest expressed as a WKT polygon')])"
   ]
  },
  {
   "cell_type": "code",
   "execution_count": 3,
   "metadata": {
    "collapsed": true
   },
   "outputs": [],
   "source": [
    "polarization = dict([('id', 'polarization'),\n",
    "               ('value', 'VH'),\n",
    "               ('title', 'Sentinel-1 polarization'),\n",
    "               ('abstract', 'Sentinel-1 polarization (e.g. VH)')])"
   ]
  },
  {
   "cell_type": "markdown",
   "metadata": {},
   "source": [
    "## <a name=\"workflow\">Workflow"
   ]
  },
  {
   "cell_type": "markdown",
   "metadata": {},
   "source": [
    "#### Set the parameters"
   ]
  },
  {
   "cell_type": "code",
   "execution_count": 4,
   "metadata": {
    "collapsed": true
   },
   "outputs": [],
   "source": [
    "data_path = '/workspace/data'"
   ]
  },
  {
   "cell_type": "code",
   "execution_count": 5,
   "metadata": {
    "collapsed": true
   },
   "outputs": [],
   "source": [
    "input_references = ('https://catalog.terradue.com/sentinel1/search?uid=S1A_IW_GRDH_1SDV_20180312T061753_20180312T061818_020978_024034_457D',\n",
    "                   'https://catalog.terradue.com/sentinel1/search?uid=S1A_IW_GRDH_1SDV_20180216T061753_20180216T061818_020628_02351B_9F18')"
   ]
  },
  {
   "cell_type": "code",
   "execution_count": 6,
   "metadata": {
    "collapsed": true
   },
   "outputs": [],
   "source": [
    "input_identifiers = ('S1A_IW_GRDH_1SDV_20180312T061753_20180312T061818_020978_024034_457D', \n",
    "           'S1A_IW_GRDH_1SDV_20180216T061753_20180216T061818_020628_02351B_9F18')"
   ]
  },
  {
   "cell_type": "code",
   "execution_count": 7,
   "metadata": {
    "collapsed": true
   },
   "outputs": [],
   "source": [
    "slave_identifier = input_identifiers[0]"
   ]
  },
  {
   "cell_type": "code",
   "execution_count": 8,
   "metadata": {
    "collapsed": true
   },
   "outputs": [],
   "source": [
    "master_identifier = input_identifiers[1]"
   ]
  },
  {
   "cell_type": "markdown",
   "metadata": {},
   "source": [
    "#### Import the python packages"
   ]
  },
  {
   "cell_type": "code",
   "execution_count": 9,
   "metadata": {
    "collapsed": false
   },
   "outputs": [],
   "source": [
    "import owslib\n",
    "from owslib.wps import monitorExecution\n",
    "import uuid\n",
    "from owslib.wps import WebProcessingService\n",
    "import sys\n",
    "import os\n",
    "sys.path.append('/opt/anaconda/bin/')\n",
    "import lxml.etree as etree\n",
    "os.environ[\"TMPDIR\"] = '1'\n",
    "os.environ[\"_CIOP_APPLICATION_PATH\"] = '/'\n",
    "import requests\n",
    "import cioppy\n",
    "ciop = cioppy.Cioppy()\n",
    "import shapely\n",
    "import dateutil.parser\n",
    "from shapely.wkt import loads \n",
    "import pandas as pd\n",
    "import geopandas as gp\n",
    "from datetime import datetime, timedelta\n",
    "from io import BytesIO\n",
    "from zipfile import ZipFile\n",
    "%matplotlib inline\n",
    "import matplotlib.pyplot as plt\n",
    "import gdal\n",
    "import numpy as np\n",
    "import snappy\n",
    "import gc\n",
    "import json\n",
    "from os.path import exists\n",
    "from osgeo import gdal\n",
    "from osgeo.gdalconst import GA_ReadOnly\n",
    "from struct import unpack\n",
    "import Image\n",
    "import ImageDraw\n",
    "from PIL import Image\n",
    "from mimetypes import MimeTypes\n",
    "from os.path import exists\n",
    "%load_ext autoreload\n",
    "%autoreload 2\n"
   ]
  },
  {
   "cell_type": "markdown",
   "metadata": {},
   "source": [
    "#### Read the master and slave"
   ]
  },
  {
   "cell_type": "code",
   "execution_count": 10,
   "metadata": {
    "collapsed": false
   },
   "outputs": [],
   "source": [
    "slave_prd = \"%s/%s/%s.SAFE/manifest.safe\" % (data_path, slave_identifier, slave_identifier)\n",
    "slave = snappy.ProductIO.readProduct(slave_prd)\n",
    "\n",
    "master_prd = \"%s/%s/%s.SAFE/manifest.safe\" % (data_path, master_identifier, master_identifier)\n",
    "master = snappy.ProductIO.readProduct(master_prd)"
   ]
  },
  {
   "cell_type": "markdown",
   "metadata": {},
   "source": [
    "#### Subset master and slave"
   ]
  },
  {
   "cell_type": "code",
   "execution_count": 11,
   "metadata": {
    "collapsed": false
   },
   "outputs": [],
   "source": [
    "HashMap = snappy.jpy.get_type('java.util.HashMap')\n",
    "    \n",
    "snappy.GPF.getDefaultInstance().getOperatorSpiRegistry().loadOperatorSpis()\n",
    "\n",
    "parameters = HashMap()\n",
    "\n",
    "parameters.put('geoRegion', aoi_wkt['value'],)\n",
    "parameters.put('subSamplingX', '1')\n",
    "parameters.put('subSamplingY', '1')\n",
    "parameters.put('fullSwath', 'false')\n",
    "parameters.put('copyMetadata', 'true')"
   ]
  },
  {
   "cell_type": "code",
   "execution_count": 12,
   "metadata": {
    "collapsed": true
   },
   "outputs": [],
   "source": [
    "slave_subset = snappy.GPF.createProduct('Subset', parameters, slave)\n",
    "master_subset = snappy.GPF.createProduct('Subset', parameters, master)"
   ]
  },
  {
   "cell_type": "markdown",
   "metadata": {},
   "source": [
    "#### Apply the orbit files to the subset master and slave"
   ]
  },
  {
   "cell_type": "code",
   "execution_count": 13,
   "metadata": {
    "collapsed": true
   },
   "outputs": [],
   "source": [
    "parameters = HashMap()\n",
    "\n",
    "parameters.put('orbitType', 'Sentinel Precise (Auto Download)')\n",
    "parameters.put('polyDegree', '3')\n",
    "parameters.put('continueOnFail', 'true')"
   ]
  },
  {
   "cell_type": "code",
   "execution_count": 14,
   "metadata": {
    "collapsed": true
   },
   "outputs": [],
   "source": [
    "slave_orbit_applied = snappy.GPF.createProduct('Apply-Orbit-File', parameters, slave_subset)\n",
    "master_orbit_applied = snappy.GPF.createProduct('Apply-Orbit-File', parameters, master_subset)"
   ]
  },
  {
   "cell_type": "markdown",
   "metadata": {},
   "source": [
    "#### Remove the thermal noise master and slave"
   ]
  },
  {
   "cell_type": "code",
   "execution_count": 15,
   "metadata": {
    "collapsed": false
   },
   "outputs": [],
   "source": [
    "parameters = HashMap()\n",
    "\n",
    "parameters.put('removeThermalNoise', 'true')\n",
    "parameters.put('reIntroduceThermalNoise', 'false')"
   ]
  },
  {
   "cell_type": "code",
   "execution_count": 16,
   "metadata": {
    "collapsed": true
   },
   "outputs": [],
   "source": [
    "slave_thermal_noise = snappy.GPF.createProduct('ThermalNoiseRemoval', parameters, slave_orbit_applied)\n",
    "master_thermal_noise = snappy.GPF.createProduct('ThermalNoiseRemoval', parameters, master_orbit_applied)"
   ]
  },
  {
   "cell_type": "markdown",
   "metadata": {},
   "source": [
    "#### Apply the calibration"
   ]
  },
  {
   "cell_type": "code",
   "execution_count": 17,
   "metadata": {
    "collapsed": true
   },
   "outputs": [],
   "source": [
    "parameters = HashMap()\n",
    "\n",
    "parameters.put('auxFile', 'Product Auxiliary File')\n",
    "parameters.put('outputImageInComplex','false')\n",
    "parameters.put('outputImageScaleInDb','false')\n",
    "parameters.put('createGammaBand', 'false')\n",
    "parameters.put('createBetaBand', 'false')\n",
    "parameters.put('selectedPolarisations', polarization['value'])\n",
    "parameters.put('outputSigmaBand', 'true')\n",
    "parameters.put('outputGammaBand', 'false')\n",
    "parameters.put('outputBetaBand', 'false')              "
   ]
  },
  {
   "cell_type": "code",
   "execution_count": 18,
   "metadata": {
    "collapsed": true
   },
   "outputs": [],
   "source": [
    "slave_calibrated = snappy.GPF.createProduct('Calibration', parameters, slave_thermal_noise)\n",
    "master_calibrated = snappy.GPF.createProduct('Calibration', parameters, master_thermal_noise)"
   ]
  },
  {
   "cell_type": "markdown",
   "metadata": {},
   "source": [
    "#### Terrain Correction"
   ]
  },
  {
   "cell_type": "code",
   "execution_count": 19,
   "metadata": {
    "collapsed": false
   },
   "outputs": [],
   "source": [
    "parameters = HashMap()\n",
    "\n",
    "parameters.put('demName', 'SRTM 3Sec')\n",
    "parameters.put('externalDEMFile', '')\n",
    "parameters.put('externalDEMNoDataValue', '0.0')\n",
    "parameters.put('externalDEMApplyEGM', 'true')\n",
    "parameters.put('demResamplingMethod', 'BILINEAR_INTERPOLATION')\n",
    "parameters.put('imgResamplingMethod', 'BILINEAR_INTERPOLATION')\n",
    "parameters.put('pixelSpacingInMeter', '10.0')\n",
    "#parameters.put('pixelSpacingInDegree', '8.983152841195215E-5')\n",
    "parameters.put('mapProjection', 'AUTO:42001')\n",
    "parameters.put('nodataValueAtSea', 'true')\n",
    "parameters.put('saveDEM', 'false')\n",
    "parameters.put('saveLatLon', 'false')\n",
    "parameters.put('saveIncidenceAngleFromEllipsoid', 'false')\n",
    "parameters.put('saveProjectedLocalIncidenceAngle', 'false')\n",
    "parameters.put('saveSelectedSourceBand', 'true')\n",
    "parameters.put('outputComplex', 'false')\n",
    "parameters.put('applyRadiometricNormalization', 'false')\n",
    "parameters.put('saveSigmaNought', 'false')\n",
    "parameters.put('saveGammaNought', 'false')\n",
    "parameters.put('saveBetaNought', 'false')\n",
    "parameters.put('incidenceAngleForSigma0', 'Use projected local incidence angle from DEM')\n",
    "parameters.put('incidenceAngleForGamma0', 'Use projected local incidence angle from DEM')\n",
    "parameters.put('auxFile', 'Latest Auxiliary File')\n",
    "\n"
   ]
  },
  {
   "cell_type": "code",
   "execution_count": 20,
   "metadata": {
    "collapsed": false
   },
   "outputs": [],
   "source": [
    "slave_tc = snappy.GPF.createProduct('Terrain-Correction', parameters, slave_calibrated)\n",
    "master_tc = snappy.GPF.createProduct('Terrain-Correction', parameters, master_calibrated)"
   ]
  },
  {
   "cell_type": "markdown",
   "metadata": {
    "collapsed": true
   },
   "source": [
    "#### Stack the master and slave"
   ]
  },
  {
   "cell_type": "code",
   "execution_count": 21,
   "metadata": {
    "collapsed": true
   },
   "outputs": [],
   "source": [
    "parameters = HashMap()\n",
    "\n",
    "parameters.put('resamplingType', 'BICUBIC_INTERPOLATION')\n",
    "parameters.put('extent', 'Minimum')\n",
    "parameters.put('initialOffsetMethod', 'Orbit')\n",
    "\n",
    "stack = snappy.GPF.createProduct('CreateStack', parameters, [master_calibrated, slave_calibrated])\n",
    "\n"
   ]
  },
  {
   "cell_type": "markdown",
   "metadata": {},
   "source": [
    "#### Apply the change detection band arithmetic expression"
   ]
  },
  {
   "cell_type": "code",
   "execution_count": 22,
   "metadata": {
    "collapsed": false
   },
   "outputs": [
    {
     "name": "stdout",
     "output_type": "stream",
     "text": [
      "Sigma0_VH_mst_12Mar2018\n",
      "Sigma0_VH_slv1_16Feb2018\n"
     ]
    }
   ],
   "source": [
    "for index, band in enumerate(stack.getBandNames()):\n",
    "    print band\n",
    "\n"
   ]
  },
  {
   "cell_type": "code",
   "execution_count": 23,
   "metadata": {
    "collapsed": false
   },
   "outputs": [],
   "source": [
    "change_detection_expression = '({0} > 0.0001) && ({1} > 0.0001) && (abs(log10({0} / {1})) > 1) && ({0} > 0.05 || {1} >0.05)'.format(stack.getBandNames()[0], stack.getBandNames()[1])\n"
   ]
  },
  {
   "cell_type": "code",
   "execution_count": 24,
   "metadata": {
    "collapsed": false
   },
   "outputs": [],
   "source": [
    "BandDescriptor = snappy.jpy.get_type('org.esa.snap.core.gpf.common.BandMathsOp$BandDescriptor')\n",
    "\n",
    "targetBand0 = BandDescriptor()\n",
    "targetBand0.name = 'change_detection_%s' % polarization['value']\n",
    "targetBand0.type = 'uint16'\n",
    "targetBand0.expression = change_detection_expression\n",
    "\n",
    "targetBands = snappy.jpy.array('org.esa.snap.core.gpf.common.BandMathsOp$BandDescriptor', 1)\n",
    "targetBands[0] = targetBand0\n",
    "\n",
    "parameters = HashMap()\n",
    "parameters.put('targetBands', targetBands)\n",
    "\n",
    "change_detection = snappy.GPF.createProduct('BandMaths', parameters, stack)"
   ]
  },
  {
   "cell_type": "markdown",
   "metadata": {},
   "source": [
    "#### Plot the result"
   ]
  },
  {
   "cell_type": "code",
   "execution_count": 25,
   "metadata": {
    "collapsed": true
   },
   "outputs": [],
   "source": [
    "def plotBand(product, band, vmin, vmax):\n",
    "     \n",
    "    band = product.getBand(band)\n",
    "\n",
    "    w = band.getRasterWidth()\n",
    "    h = band.getRasterHeight()\n",
    "\n",
    "    band_data = np.zeros(w * h, np.float32)\n",
    "    band.readPixels(0, 0, w, h, band_data)\n",
    "\n",
    "    band_data.shape = h, w\n",
    "\n",
    "    imgplot = plt.imshow(band_data, cmap=plt.cm.binary_r, vmin=vmin, vmax=vmax)\n",
    "\n",
    "    \n",
    "    return imgplot "
   ]
  },
  {
   "cell_type": "code",
   "execution_count": 26,
   "metadata": {
    "collapsed": false
   },
   "outputs": [
    {
     "data": {
      "image/png": "[encoded data removed]",
      "text/plain": [
       "<matplotlib.figure.Figure at 0x7f2c14052150>"
      ]
     },
     "metadata": {},
     "output_type": "display_data"
    },
    {
     "data": {
      "text/plain": [
       "1181"
      ]
     },
     "execution_count": 26,
     "metadata": {},
     "output_type": "execute_result"
    }
   ],
   "source": [
    "fig = plt.figure(figsize=(20,20))\n",
    "\n",
    "for index, band in enumerate(change_detection.getBandNames()):\n",
    "        \n",
    "    a=fig.add_subplot(4,4,index+1)\n",
    "    imgplot = plotBand(change_detection, band, 0, 1)\n",
    "    a.set_title(band)\n",
    "    \n",
    "plt.tight_layout()\n",
    "fig = plt.gcf()\n",
    "plt.show()\n",
    "\n",
    "fig.clf()\n",
    "plt.close()\n",
    "gc.collect()"
   ]
  },
  {
   "cell_type": "code",
   "execution_count": 27,
   "metadata": {
    "collapsed": false
   },
   "outputs": [],
   "source": [
    "result_dir = '/workspace/EVER-EST'\n",
    "if not os.path.isdir(result_dir):\n",
    "    os.makedirs(result_dir)\n",
    "\n",
    "\n",
    "output_name = 'change_detection_%s_%s' % (stack.getBandNames()[0], stack.getBandNames()[1])\n",
    "\n",
    "snappy.ProductIO.writeProduct(change_detection, output_name + '.tif', 'GeoTIFF')"
   ]
  },
  {
   "cell_type": "code",
   "execution_count": 28,
   "metadata": {
    "collapsed": false
   },
   "outputs": [
    {
     "data": {
      "text/plain": [
       "0"
      ]
     },
     "execution_count": 28,
     "metadata": {},
     "output_type": "execute_result"
    }
   ],
   "source": [
    "stack = None\n",
    "gc.collect()"
   ]
  },
  {
   "cell_type": "code",
   "execution_count": 29,
   "metadata": {
    "collapsed": true
   },
   "outputs": [],
   "source": [
    "change_detection_palette = {1: [61, 0, 253, 0],\n",
    "                0: [0, 0, 0, 255]}"
   ]
  },
  {
   "cell_type": "code",
   "execution_count": 30,
   "metadata": {
    "collapsed": false
   },
   "outputs": [],
   "source": [
    "def raster2rgb(raster_file, color_table, out_file_name, raster_band=1, discrete=True):\n",
    "    \n",
    "    #Reading the band\n",
    "    data_types ={'Byte':'B','UInt16':'H','Int16':'h','UInt32':'I','Int32':'i','Float32':'f','Float64':'d'}\n",
    "    if exists(raster_file) is False:\n",
    "            raise Exception('[Errno 2] No such file or directory: \\'' + raster_file + '\\'')    \n",
    "    \n",
    "    dataset = gdal.Open(raster_file, GA_ReadOnly )\n",
    "    \n",
    "    if dataset == None:\n",
    "        raise Exception(\"Unable to read the data file\")\n",
    "        \n",
    "    geoTransform = dataset.GetGeoTransform()\n",
    "    proj = dataset.GetProjection()\n",
    "    \n",
    "    band = dataset.GetRasterBand(raster_band)\n",
    "    values = band.ReadRaster( 0, 0, band.XSize, band.YSize, band.XSize, band.YSize, band.DataType )\n",
    "    values = unpack(data_types[gdal.GetDataTypeName(band.DataType)]*band.XSize*band.YSize,values)\n",
    "    \n",
    "    #Preparing the color table and the output file\n",
    "    classification_values = color_table.keys()\n",
    "    classification_values.sort()\n",
    "    \n",
    "    base = Image.new( 'RGBA', (band.XSize,band.YSize) )\n",
    "    base_draw = ImageDraw.Draw(base)\n",
    "    alpha_mask = Image.new('L', (band.XSize,band.YSize), 255)\n",
    "    alpha_draw = ImageDraw.Draw(alpha_mask)\n",
    "    \n",
    "    #Reading the value and setting the output color for each pixel\n",
    "    for pos in range(len(values)):\n",
    "        y = pos/band.XSize\n",
    "        x = pos - y * band.XSize\n",
    "        for index in range(len(classification_values)):\n",
    "\n",
    "            if values[pos] <= classification_values[index] or index == len(classification_values)-1:\n",
    "                if discrete == True:\n",
    "                    if index == 0:\n",
    "                        index = 1\n",
    "                    elif index == len(classification_values)-1 and values[pos] >= classification_values[index]:\n",
    "                        index = index + 1\n",
    "                    color = color_table[classification_values[index-1]]\n",
    "                    base_draw.point((x,y), (color[0],color[1],color[2]))\n",
    "                    alpha_draw.point((x,y),color[3])\n",
    "                else:\n",
    "                    if index == 0:\n",
    "                        r = color_table[classification_values[0]][0]\n",
    "                        g = color_table[classification_values[0]][1]\n",
    "                        b = color_table[classification_values[0]][2]\n",
    "                        a = color_table[classification_values[0]][3]\n",
    "                    elif index == len(classification_values)-1 and values[pos] >= classification_values[index]:\n",
    "                        r = color_table[classification_values[index]][0]\n",
    "                        g = color_table[classification_values[index]][1]\n",
    "                        b = color_table[classification_values[index]][2]\n",
    "                        a = color_table[classification_values[index]][3]\n",
    "                    else:\n",
    "                        r = color_table[classification_values[index-1]][0] + (values[pos] - classification_values[index-1])*(color_table[classification_values[index]][0] - color_table[classification_values[index-1]][0])/(classification_values[index]-classification_values[index-1]) \n",
    "                        g = color_table[classification_values[index-1]][1] + (values[pos] - classification_values[index-1])*(color_table[classification_values[index]][1] - color_table[classification_values[index-1]][1])/(classification_values[index]-classification_values[index-1]) \n",
    "                        b = color_table[classification_values[index-1]][2] + (values[pos] - classification_values[index-1])*(color_table[classification_values[index]][2] - color_table[classification_values[index-1]][2])/(classification_values[index]-classification_values[index-1]) \n",
    "                        a = color_table[classification_values[index-1]][3] + (values[pos] - classification_values[index-1])*(color_table[classification_values[index]][3] - color_table[classification_values[index-1]][3])/(classification_values[index]-classification_values[index-1]) \n",
    "                    \n",
    "                    base_draw.point((x,y), (int(r),int(g),int(b)))\n",
    "                    alpha_draw.point((x,y),int(a))\n",
    "                    \n",
    "                break\n",
    "    #Adding transparency and saving the output image       \n",
    "    color_layer = Image.new('RGBA', base.size, (255, 255, 255, 0))\n",
    "    base = Image.composite(color_layer, base, alpha_mask)\n",
    "    base.save(out_file_name)\n",
    "\n",
    "    # update geolocation\n",
    "    ds_rgb = gdal.Open(out_file_name,1)\n",
    "    ds_rgb.SetGeoTransform(geoTransform)\n",
    "    ds_rgb.SetProjection(proj)\n",
    "    \n",
    "    ds_rgb.FlushCache()\n",
    "    \n",
    "    ds_rgb = None"
   ]
  },
  {
   "cell_type": "code",
   "execution_count": 31,
   "metadata": {
    "collapsed": false
   },
   "outputs": [],
   "source": [
    "raster2rgb(output_name + '.tif',\n",
    "           change_detection_palette,\n",
    "           output_name + '.rgb.tif',\n",
    "           raster_band=1)"
   ]
  }
 ],
 "metadata": {
  "kernelspec": {
   "display_name": "Python 2",
   "language": "python",
   "name": "python2"
  },
  "language_info": {
   "codemirror_mode": {
    "name": "ipython",
    "version": 2
   },
   "file_extension": ".py",
   "mimetype": "text/x-python",
   "name": "python",
   "nbconvert_exporter": "python",
   "pygments_lexer": "ipython2",
   "version": "2.7.12"
  }
 },
 "nbformat": 4,
 "nbformat_minor": 2
}
